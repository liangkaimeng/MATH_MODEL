{
 "cells": [
  {
   "cell_type": "markdown",
   "metadata": {},
   "source": [
    "<center><font size=5 color=black fonc='仿宋'>第九章　插值与拟合</font></center>"
   ]
  },
  {
   "cell_type": "markdown",
   "metadata": {},
   "source": [
    "<font size=2 fonc='仿宋'>　　插值：求过已知有限个数据点的近似函数。  \n",
    "　　拟合：已知有限个数据点，求近似函数，不要求过已知数据点，只要求在某种意义下它在这些点上的总偏差最小。  \n",
    "　　插值和拟合都是要根据一组数据构造一个函数作为近似，由于近似的要求不同，二者的数学方法上是完全不同的。而面对一个实际问题，究竟应该用插值还是拟合，有时容易确定，有时则并不明显。</font>"
   ]
  },
  {
   "cell_type": "markdown",
   "metadata": {},
   "source": [
    "<font size=3.5 fonc='黑体' color=red>1.　插值方法</font>  \n",
    "<font size=2 fonc='仿宋' color=black>　　下面介绍几种基本的、常用的插值：拉格朗日多项式插值、牛顿插值、分段线性插值、Hermite插值和三次样条插值。</font>  \n",
    "<font size=3 fonc='仿宋' color=blue>1.1　拉格朗日多项式插值</font>  \n",
    "<font size=3 fonc='仿宋' color=black>1.1.1　插值多项式</font>  \n",
    "<font size=2 fonc='仿宋' color=black>　　用多项式作为研究插值的工具，称为代数插值。其基本问题是：已知函数$f(\\mathbf{x})$在区间$[a,b]$上$n+1$个不同点$\\mathbf{x}_{0},\\mathbf{x}_{1},\\cdots,\\mathbf{x}_{n}$处的函数值$y_{i}=f(\\mathbf{x_{i}})(i=0,1,\\cdots,n)$，求一个至多$n$ 次多项式</font>"
   ]
  },
  {
   "cell_type": "code",
   "execution_count": null,
   "metadata": {},
   "outputs": [],
   "source": []
  }
 ],
 "metadata": {
  "kernelspec": {
   "display_name": "Python [conda env:lkm]",
   "language": "python",
   "name": "lkm"
  },
  "language_info": {
   "codemirror_mode": {
    "name": "ipython",
    "version": 3
   },
   "file_extension": ".py",
   "mimetype": "text/x-python",
   "name": "python",
   "nbconvert_exporter": "python",
   "pygments_lexer": "ipython3",
   "version": "3.7.7"
  },
  "toc": {
   "base_numbering": 1,
   "nav_menu": {},
   "number_sections": true,
   "sideBar": true,
   "skip_h1_title": false,
   "title_cell": "Table of Contents",
   "title_sidebar": "Contents",
   "toc_cell": false,
   "toc_position": {},
   "toc_section_display": true,
   "toc_window_display": true
  }
 },
 "nbformat": 4,
 "nbformat_minor": 4
}
