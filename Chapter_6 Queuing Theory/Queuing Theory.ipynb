{
 "cells": [
  {
   "cell_type": "markdown",
   "metadata": {},
   "source": [
    "<center><font size=5>第六章&nbsp;排队论模型</font></center>"
   ]
  },
  {
   "cell_type": "markdown",
   "metadata": {},
   "source": [
    "　　排队论起源于1909年丹麦电话工程师A.K．爱尔朗的工作，他对电话通话拥挤问题进行了研究。1917年，爱尔朗发表了他的著名的文章—“自动电话交换中的概率理论的几个问题的解决”。排队论已广泛应用于解决军事、运输、维修、生产、服务、库存、医疗卫生、教育、水利灌溉之类的排队系统的问题，显示了强大的生命力。    \n",
    "　　排队是在日常生活中经常遇到的现象，如顾客到商店购买物品、病人到医院看病常常要排队。此时要求服务的数量超过服务机构（服务台、服务员等）的容量。也就是说，到达的顾客不能立即得到服务，因而出现了排队现象。这种现象不仅在个人日常生活中出现，电话局的占线问题，车站、码头等交通枢纽的车船堵塞和疏导，故障机器的停机待修，水库的存贮调节等都是有形或无形的排队现象。由于顾客到达和服务时间的随机性。可以说排队现象几乎是不可避免的。     \n",
    "　　排队论（Queuing Theory）也称随机服务系统理论，就是为解决上述问题而发展的一门学科。它研究的内容有下列三部分：    \n",
    "　　(1)性态问题，即研究各种排队系统的概率规律性，主要是研究队长分布、等待时间分布和忙期分布等，包括了瞬态和稳态两种情形。    \n",
    "　　(2)最优化问题，又分静态最优和动态最优，前者指最优设计。后者指现有排队系统的最优运营。    \n",
    "　　(3)排队系统的统计推断，即判断一个给定的排队系统符合于哪种模型，以便根据排队理论进行分析研究。    \n",
    "　　这里将介绍排队论的一些基本知识，分析几个常见的排队模型。\n",
    "    \n",
    "1.基本概念    \n",
    "1.1.排队过程的一般表示    \n",
    "　　下图是排队论的一般模型"
   ]
  },
  {
   "attachments": {
    "image.png": {
     "image/png": "[encoded data removed]"
    }
   },
   "cell_type": "markdown",
   "metadata": {},
   "source": [
    "![image.png](attachment:image.png)"
   ]
  },
  {
   "cell_type": "markdown",
   "metadata": {},
   "source": [
    "图中虚线所包含的部分为排队系统。各个顾客从顾客源出发，随机地来到服务机构，按一定的排队规则等待服务，直到按一定的服务规则接受完服务后离开排队系统。    \n",
    "　　凡要求服务的对象统称为顾客，为顾客服务的人或物称为服务员，由顾客和服务员组成服务系统。对于一个服务系统来说，如果服务机构过小，以致不能满足要求服务的众多顾客的需要，那么就会产生拥挤现象而使服务质量降低。因此，顾客总希望服务机构越大越好，但是，如果服务机构过大，人力和物力方面的开支也就相应增加，从而会造成浪费，因此研究排队模型的目的就是要在顾客需要和服务机构的规模之间进行权衡决策，使其达到合理的平衡。    \n",
    "    \n",
    "1.2　排队系统的组成和特征    \n",
    "　　一般的排队过程都由输入过程、排队规则、服务过程三部分组成，现分述如下：    \n",
    "　　1.2.1　输入过程    \n",
    "　　输入过程是指顾客到来时间的规律性，可能有下列不同情况：    \n",
    "　　(1)顾客的组成可能是有限的，也可能是无限的。    \n",
    "　　(2)顾客到达的方式可能是一个—个的，也可能是成批的。    \n",
    "　　(3)顾客到达可以是相互独立的，即以前的到达情况对以后的到达没有影响；否则是相关的。    \n",
    "　　(4)输入过程可以是平稳的，即相继到达的间隔时间分布及其数学期望、方差等数字特征都与时间无关，否则是非平稳的。    "
   ]
  },
  {
   "cell_type": "markdown",
   "metadata": {},
   "source": [
    "　　1.2.2 排队规则    \n",
    "　　排队规则指到达排队系统的顾客按怎样的规则排队等待，可分为损失制，等待制和混合制三种。    \n",
    "　　(1)损失制（消失制）。当顾客到达时，所有的服务台均被占用，顾客随即离去。    \n",
    "　　(2)等待制。当顾客到达时，所有的服务台均被占用，顾客就排队等待，直到接受完服务才离去。例如出故障的机器排队等待维修就是这种情况。    \n",
    "　　(3)混合制。介于损失制和等待制之间的是混合制，即既有等待又有损失。有队列长度有限和排队等待时间有限两种情况，在限度以内就排队等待，超过一定限度就离去。    \n",
    "　　排队方式还分为单列、多列和循环队列。    \n",
    "　　1.2.3 服务过程    \n",
    "　　(1)服务机构。主要有以下几种类型：单服务台；多服务台并联（每个服务台同时为不同顾客服务）；多服务台串联（多服务台依次为同一顾客服务）；混合型。    \n",
    "　　(2)服务规则。按为顾客服务的次序采用以下几种规则：    \n",
    "　　①先到先服务，这是通常的情形。    \n",
    "　　②后到先服务，如情报系统中，最后到的情报信息往往最有价值，因而常被优先处理。    \n",
    "　　③随机服务，服务台从等待的顾客中随机地取其一进行服务，而不管到达的先后。    \n",
    "　　④优先服务，如医疗系统对病情严重的病人给予优先治疗。    \n",
    "1.3 排队模型的符号表示    \n",
    "　　排队模型用六个符号表示，在符号之间用斜线隔开，即X/Y/Z/A/B/C。第一个符号X表示顾客到达流或顾客到达间隔时间的分布；第二个符号Y表示服务时间的分布；第三个符号Z表示服务台数目；第四个符号A是系统容量限制；第五个符号B是顾客源数目；第六个符号C是服务规则，如先到先服务FCFS，后到先服务LCFS 等。并约定，如略去后三项，即指X/Y/Z/∞/∞/FCFS的情形。我们只讨论先到先服务FCFS的情形，所以略去第六项。    \n",
    "　　表示顾客到达间隔时间和服务时间的分布的约定符号为：    \n",
    "　　M—指数分布（M是Markov的字头，因为指数分布具有无记忆性，即Markov性）；    \n",
    "　　D—确定型（Deterministic）；    \n",
    "　　$E_k$—k阶爱尔朗(Erlang)分布；    \n",
    "　　G—一般（general）服务时间的分布；    \n",
    "　　GI—一般相互独立（General Independent）的时间间隔的分布。    \n",
    "　　例如，M/M/1表示相继到达间隔时间为指数分布、服务时间为指数分布、单服务台、等待制系统。D/M/c表示确定的到达时间、服务时间为指数分布、c个平行服务台（但顾客是一队）的模型。    \n",
    " 1.4 排队系统的运行指标    \n",
    "　　为了研究排队系统运行的效率，估计其服务质量，确定系统的最优参数，评价系统的结构是否合理并研究其改进的措施，必须确定用以判断系统运行优劣的基本数量指标，这些数量指标通常是：    \n",
    "　　(1)平均队长：指系统内顾客数（包括正被服务的顾客与排队等待服务的顾客）的数学期望，记作$L_s$。    \n",
    "　　(2)平均排队长:指系统内等待服务的顾客数的数学期望，记作$L_q$。    \n",
    "　　(3)平均逗留时间：顾客在系统内逗留时间（包括排队等待的时间和接受服务的时间）的数学期望，记作$W_s$。    \n",
    "　　(4)平均等待时间：指一个顾客在排队系统中排队等待时间的数学期望，记作$W_q$。    \n",
    "　　(5)平均忙期：指服务机构连续繁忙时间（顾客到达空闲服务机构起，到服务机构再次空闲止的时间）长度的数学期望，记为$T_b$。    \n",
    "　　还有由于顾客被拒绝而使企业受到损失的损失率以及以后经常遇到的服务强度等，这些都是很重要的指标。    \n",
    "　　计算这些指标的基础是表达系统状态的概率。所谓系统的状态即指系统中顾客数，如果系统中有n个顾客就说系统的状态是n，它的可能值是    \n",
    "　　(1)队长没有限制时，n=0,1,2,...，    \n",
    "　　(2)队长有限制，最大数为N时，n=0,1,...,N，    \n",
    "　　(3)损失制，服务台个数是c时，n=0,1,...,c。    \n",
    "　　这些状态的概率一般是随时刻t而变化，所以在时刻t、系统状态为n的概率用$P_{n}(t)$表示。稳态时系统状态为n的概率用$P_n$表示。    "
   ]
  },
  {
   "cell_type": "markdown",
   "metadata": {},
   "source": [
    "2 输入过程与服务时间的分布    \n",
    "　　排队系统中的事件流包括顾客到达流和服务时间流。由于顾客到达的间隔时间和服务时间不可能是负值，因此，它的分布是非负随机变量的分布。最常用的分布有泊松分布、确定型分布，指数分布和爱尔朗分布。    \n",
    "2.1　泊松流与指数分布    \n",
    "　　设N(t)表示在时间区间$[0,t)$内到达的顾客数(t>0)，令$P_{n}(t_{1},t_{2})$表示在时间区间$[t_{1},t_{2})(t_{2}>t_{1})$内有n(≥0)个顾客到达的概率，即    \n",
    "<center>$P_{n}(t_{1},t_{2})=P\\lbrace N(t_{2})-N(t_{1})=n\\rbrace　(t_{2}>t_{1},n\\ge0)$</center>    \n",
    "　　当$P_{n}(t_{1},t_{2})$合于下列三个条件时，我们说顾客的到达形成泊松流。这三个条件是：      "
   ]
  },
  {
   "cell_type": "markdown",
   "metadata": {},
   "source": [
    "　　$1^o$在不相重叠的时间区间内顾客到达数是相互独立的，我们称这性质为无后效性。    \n",
    "　　$2^o$对充分小的$\\Delta t$，在时间区间$[t,t+\\Delta t)$内有一个顾客到达的概率与t无关，而约与区间长$\\Delta t$成正比，即    \n",
    "<center>$P_{1}(t,t+\\Delta t)=\\lambda \\Delta t+o(\\Delta t)$</center>    \n",
    "　　其中$o(\\Delta t)$，当$\\Delta t →0$时，是关于$\\Delta t$的高阶无穷小。$\\lambda >0$是常数，它代表单位时间有一个顾客到达的概率，称为概率强度。"
   ]
  },
  {
   "cell_type": "markdown",
   "metadata": {},
   "source": [
    "　　$3^o$对于充分小的$\\Delta t$，在时间区间$[t,t+\\Delta t)$内有两个或两个以上顾客到达的概率极小，以致可以忽略，即    \n",
    "<center>$\\sum_{n=2}^\\infty P_{n}(t,t+\\Delta t)=o(\\Delta t)$</center>"
   ]
  },
  {
   "cell_type": "markdown",
   "metadata": {},
   "source": [
    "　　在上述条件下，我们研究顾客到达n的概率分布。  \n",
    "　　由条件$2^o$，我们总可以取时间由0算起，并简记$P_{n}(0,t)=P_{n}(t)$。  \n",
    "　　由条件$1_o$和$2_{o}$，有  \n",
    "<center>$P_{0}(t+\\Delta t)=P_{0}(t)P_{0}(\\Delta t)$</center>"
   ]
  },
  {
   "cell_type": "markdown",
   "metadata": {},
   "source": [
    "<center>$P_{n}(t+\\Delta t)=\\sum_{k=0}^n P_{n-k}(t)P_{k}(\\Delta t),　n=1,2,...$</center>"
   ]
  },
  {
   "cell_type": "markdown",
   "metadata": {},
   "source": [
    "由条件$2^o$和$3^o$得  \n",
    "<center>$P_{\\Delta t}=1-\\lambda \\Delta t+o(\\Delta t)$</center>  \n",
    "因而有  \n",
    "<center>$\\frac{P_{0}(t+\\Delta t)-P_{0}(t)}{\\Delta t}=-\\lambda P_{0}(t)+\\frac{o(\\Delta t)}{\\Delta t}$</center>  \n",
    "<center>$\\frac{P_{n}(t+\\Delta t)-P_{n}(t)}{\\Delta t}=-\\lambda P_{n}(t)+\\lambda P_{n-1}(t)+\\frac{o(\\Delta t)}{\\Delta t}$</center>  \n",
    "在以上两式中，取$\\Delta t$趋于零的极限，当假设所涉及的函数可导时，得到以下微分方程组：  \n",
    "<center>$\\frac{dP_{0}(t)}{dt}=-\\lambda P_{0}(t)$</center>  \n",
    "<center>$\\frac{dP_{n}(t)}{dt}=-\\lambda P_{n}(t)+\\lambda P_{n-1}(t),　n=1,2,...$</center>  \n",
    "取初值$P_{0}=1$，$P_{n}(0)=0(n=1,2,\\dots)$，容易解出$P_{0}(t)=\\varrho ^{-\\lambda t}$；再令$P_{n}(t)=U_{n}(t)\\varrho ^{-\\lambda t}$，可以得到$U_{n}(t)$及其它$U_{n}(t)$所满足的微分方程组，即  "
   ]
  },
  {
   "cell_type": "markdown",
   "metadata": {},
   "source": [
    "<center>$\\frac{dU_{n}(t)}{dt}=\\lambda U_{n-1}(t),n=1,2,\\dots.$</center>  \n",
    "<center>$U_{0}(t)=1,U_{n}(t)=0$</center>  \n",
    "由此容易解得  \n",
    "<center>$P_{n}(t)=\\frac{(\\lambda t)^n}{n!}e^{-\\lambda t},n=1,2,\\dots$</center>"
   ]
  },
  {
   "cell_type": "markdown",
   "metadata": {},
   "source": [
    "　　正如在概率论中所学过的，我们说随机变量${N(t) = N(s + t) − N(s)}$服从泊松分布。它的数学期望和方差分别是  \n",
    "<center>$E[N(t)]=\\lambda t;　Var[N(t)]=\\lambda t$</center>  \n",
    "　　当输入过程是泊松流时，那么顾客相继到达的时间间隔T 必服从指数分布。这是由于  \n",
    "<center>$P\\lbrace T>t\\rbrace=P\\lbrace[0,t)内呼叫次数为零\\rbrace=P_{0}(t)=e^{-\\lambda t}$</center>  \n",
    "那么，以$F(t)$表示T的分布函数，则有  "
   ]
  },
  {
   "cell_type": "markdown",
   "metadata": {},
   "source": [
    "<center>$P\\lbrace T\\le1\\rbrace=F(t)=\\lbrace_{0,　t<0}^{1-e^{-\\lambda t},　t\\ge0}$</center>"
   ]
  },
  {
   "cell_type": "markdown",
   "metadata": {},
   "source": [
    "而分布密度函数为  \n",
    "<center>$f(t)=\\lambda e^{-\\lambda t},　t>0$</center>"
   ]
  },
  {
   "cell_type": "code",
   "execution_count": null,
   "metadata": {},
   "outputs": [],
   "source": []
  },
  {
   "cell_type": "markdown",
   "metadata": {},
   "source": [
    "<center><font size=４>案例１　单服务台模型</font></center>"
   ]
  },
  {
   "cell_type": "markdown",
   "metadata": {},
   "source": [
    "例1　某修理店只有一个修理工，来修理的顾客到达过程为Poisson流，平均4人/h；修理时间服从负指数分布，平均需要6min。试求：  \n",
    "　　(1)修理店空闲的概率；  \n",
    "　　(2)店内恰有3个顾客的概率；  \n",
    "　　(3)店内至少有1个顾客的概率；  \n",
    "　　(4)在店内的平均顾客数；  \n",
    "　　(5)每位顾客在店内的平均逗留时间；  \n",
    "　　(6)等待服务的平均顾客数；  \n",
    "　　(7)每位顾客平均等待服务时间；  \n",
    "　　(8)顾客在店内等待时间超过10min的概率。"
   ]
  },
  {
   "cell_type": "markdown",
   "metadata": {},
   "source": [
    "本例可看成一个$M/M/1/\\infty$排队问题，其中  \n",
    "<center>$\\lambda=4（每小时服务完成顾客人数）$</center>\n",
    "<center>$\\mu=\\frac{1}{\\frac{6}{60}}=10（单位为：人/小时）$</center>  \n",
    "<center>$\\rho=\\frac{\\lambda}{\\mu}=0.4（服务台工作率）$</center>"
   ]
  },
  {
   "cell_type": "code",
   "execution_count": 9,
   "metadata": {
    "ExecuteTime": {
     "end_time": "2021-06-07T14:06:17.179266Z",
     "start_time": "2021-06-07T14:06:17.176266Z"
    }
   },
   "outputs": [],
   "source": [
    "lamb = 4\n",
    "mu = 1 / (6 / 60)\n",
    "rho = lamb / mu"
   ]
  },
  {
   "cell_type": "markdown",
   "metadata": {
    "ExecuteTime": {
     "end_time": "2021-06-07T13:26:27.862605Z",
     "start_time": "2021-06-07T13:26:27.851605Z"
    }
   },
   "source": [
    "<font fonc=\"仿宋\" color=red size=3>(1)　修理店空闲的概率<font>  \n",
    "<font fonc=\"仿宋\" color=black size=3><center>$P_{0}=1-\\rho=1-0.4=0.6$</center><font>"
   ]
  },
  {
   "cell_type": "code",
   "execution_count": 10,
   "metadata": {
    "ExecuteTime": {
     "end_time": "2021-06-07T14:06:19.938424Z",
     "start_time": "2021-06-07T14:06:19.934424Z"
    }
   },
   "outputs": [
    {
     "name": "stdout",
     "output_type": "stream",
     "text": [
      "修理店空闲的概率为 0.6\n"
     ]
    }
   ],
   "source": [
    "p0 = 1 - rho\n",
    "print('修理店空闲的概率为', p0)"
   ]
  },
  {
   "cell_type": "markdown",
   "metadata": {},
   "source": [
    "<font fonc=\"仿宋\" color=red size=3>(2)　店内恰有3个顾客的概率<font>  \n",
    "<font fonc=\"仿宋\" color=black size=3><center>$p_{3}=\\rho^{3}(1-\\rho)=0.4^{3}\\times(1-0.4)=0.38$</center><font>"
   ]
  },
  {
   "cell_type": "code",
   "execution_count": 11,
   "metadata": {
    "ExecuteTime": {
     "end_time": "2021-06-07T14:06:22.195553Z",
     "start_time": "2021-06-07T14:06:22.191553Z"
    }
   },
   "outputs": [
    {
     "name": "stdout",
     "output_type": "stream",
     "text": [
      "店内恰有3个顾客的概率为 0.0384\n"
     ]
    }
   ],
   "source": [
    "p3 = rho ** 3 * (1 - rho)\n",
    "print(\"店内恰有3个顾客的概率为\", round(p3,4))"
   ]
  },
  {
   "cell_type": "markdown",
   "metadata": {},
   "source": [
    "<font fonc=\"仿宋\" color=red size=3>(3)　店内至少有1个顾客的概率<font>  \n",
    "<font fonc=\"仿宋\" color=black size=3>$$P\\lbrace N\\geq1\\rbrace=1-P_{0}=\\rho=0.4$$<font>"
   ]
  },
  {
   "cell_type": "code",
   "execution_count": 12,
   "metadata": {
    "ExecuteTime": {
     "end_time": "2021-06-07T14:15:43.294646Z",
     "start_time": "2021-06-07T14:15:43.291646Z"
    }
   },
   "outputs": [
    {
     "name": "stdout",
     "output_type": "stream",
     "text": [
      "店内至少有1个顾客的概率为 0.4\n"
     ]
    }
   ],
   "source": [
    "p1 = rho\n",
    "print(\"店内至少有1个顾客的概率为\", p1)"
   ]
  },
  {
   "cell_type": "markdown",
   "metadata": {},
   "source": [
    "<font fonc=\"仿宋\" color=red size=3>(4)　在店内的平均顾客数<font>  \n",
    "<font fonc=\"仿宋\" color=black size=3>$$L_{s}=\\frac{\\rho}{1-\\rho}=0.67（人）$$<font>"
   ]
  },
  {
   "cell_type": "code",
   "execution_count": 14,
   "metadata": {
    "ExecuteTime": {
     "end_time": "2021-06-07T14:22:10.967820Z",
     "start_time": "2021-06-07T14:22:10.963820Z"
    }
   },
   "outputs": [
    {
     "name": "stdout",
     "output_type": "stream",
     "text": [
      "在店内的平均顾客数为 0.6667\n"
     ]
    }
   ],
   "source": [
    "ls = rho / (1 - rho)\n",
    "print(\"在店内的平均顾客数为\", round(ls, 4))"
   ]
  },
  {
   "cell_type": "markdown",
   "metadata": {},
   "source": [
    "<font fonc=\"仿宋\" color=red size=3>(5)　每位顾客在店内的平均逗留时间<font>  \n",
    "<font fonc=\"仿宋\" color=black size=3>$$W_{s}=\\frac{L_{s}}{\\lambda}=\\frac{0.67}{4}(h)=10(min)$$<font>  "
   ]
  },
  {
   "cell_type": "code",
   "execution_count": 18,
   "metadata": {
    "ExecuteTime": {
     "end_time": "2021-06-07T14:32:24.011884Z",
     "start_time": "2021-06-07T14:32:24.008884Z"
    }
   },
   "outputs": [
    {
     "name": "stdout",
     "output_type": "stream",
     "text": [
      "每位顾客在店内的平均逗留时间为10分钟\n"
     ]
    }
   ],
   "source": [
    "ws = ls / lamb\n",
    "print('每位顾客在店内的平均逗留时间为{}分钟'.format(round(ws*60)))"
   ]
  },
  {
   "cell_type": "markdown",
   "metadata": {},
   "source": [
    "<font fonc=\"仿宋\" color=red size=3>(6)　等待服务的平均顾客数<font>  \n",
    "<font fonc=\"仿宋\" color=brack size=3>$$L_{q}=L_{s}-\\rho=\\frac{\\rho}{1-\\rho}=\\frac{0.4^2}{1-0.4}=0.267(人)$$<font>  "
   ]
  },
  {
   "cell_type": "code",
   "execution_count": 19,
   "metadata": {
    "ExecuteTime": {
     "end_time": "2021-06-07T14:33:48.251702Z",
     "start_time": "2021-06-07T14:33:48.247702Z"
    }
   },
   "outputs": [
    {
     "name": "stdout",
     "output_type": "stream",
     "text": [
      "等待服务的凭据顾客数为0.2667人\n"
     ]
    }
   ],
   "source": [
    "lq = ls - rho\n",
    "print('等待服务的凭据顾客数为{}人'.format(round(lq, 4)))"
   ]
  },
  {
   "cell_type": "markdown",
   "metadata": {},
   "source": [
    "<font fonc=\"仿宋\" color=red size=3>(7)　每位顾客平均等待服务时间<font>  \n",
    "<font fonc=\"仿宋\" color=black size=3>$$W_{q}=\\frac{L_{q}}{\\lambda}=\\frac{0.267}{4}(h)=4(min)$$<font>  "
   ]
  },
  {
   "cell_type": "code",
   "execution_count": 20,
   "metadata": {
    "ExecuteTime": {
     "end_time": "2021-06-07T14:36:01.706335Z",
     "start_time": "2021-06-07T14:36:01.702335Z"
    }
   },
   "outputs": [
    {
     "name": "stdout",
     "output_type": "stream",
     "text": [
      "每位顾客平均等待服务时间为4.0分钟\n"
     ]
    }
   ],
   "source": [
    "wq = lq / lamb\n",
    "print('每位顾客平均等待服务时间为{}分钟'.format(round(wq*60,4)))"
   ]
  },
  {
   "cell_type": "markdown",
   "metadata": {},
   "source": [
    "<font fonc=\"仿宋\" color=red size=3>(8)　顾客在店内逗留时间超过10min的概率<font>  \n",
    "<font fonc=\"仿宋\" color=black size=3>$$P\\lbrace T>10\\rbrace=e^{-10(\\frac{10}{60}-\\frac{W_{q}}{60})}=e^{-1}=0.3679$$<font>  "
   ]
  },
  {
   "cell_type": "code",
   "execution_count": 30,
   "metadata": {
    "ExecuteTime": {
     "end_time": "2021-06-07T14:47:21.106195Z",
     "start_time": "2021-06-07T14:47:21.097194Z"
    }
   },
   "outputs": [
    {
     "name": "stdout",
     "output_type": "stream",
     "text": [
      "顾客在店内逗留时间超过10min的概率为0.3675\n"
     ]
    }
   ],
   "source": [
    "from sympy import E\n",
    "\n",
    "p = E ** (-10 * (1 / (60 / 6)) - 1 / (60 / wq))\n",
    "print('顾客在店内逗留时间超过10min的概率为{}'.format(round(p, 4)))"
   ]
  },
  {
   "cell_type": "markdown",
   "metadata": {},
   "source": [
    "<font fonc=\"仿宋\" color=blue size=4>$\\Delta方法封装$<font>"
   ]
  },
  {
   "cell_type": "code",
   "execution_count": 31,
   "metadata": {
    "ExecuteTime": {
     "end_time": "2021-06-07T14:50:34.446253Z",
     "start_time": "2021-06-07T14:50:34.436253Z"
    }
   },
   "outputs": [],
   "source": [
    "# coding: utf-8 -*-\n",
    "# author: 梁开孟\n",
    "# date：2021/6/6 0006 03:33\n",
    "\n",
    "from sympy import E\n",
    "from sympy import solve\n",
    "from sympy import symbols\n",
    "from math import ceil\n",
    "\n",
    "def single_service_desk_model(lamb, avg_time, work_time=8, n=1, no_seat_rate=0.05, t=10):\n",
    "    \"\"\"\n",
    "    @param lamb: 每小时完成服务人数\n",
    "    @param avg_time: 平均每人花费多少分钟\n",
    "    @param work_time: 每天工作时间\n",
    "    @param n：服务台上有n个顾客\n",
    "    @param no_seat_rate: 没有座位的顾客概率\n",
    "    @param t：顾客在店内逗留时间超过t分钟\n",
    "    @return: rho, p0, free_time, temp_length, wait_temp_length, avg_wait_time, avg_stay_time, serve_n, seat, exceed_time_rate\n",
    "    \"\"\"\n",
    "    # 单位为：人/小时\n",
    "    mu = 1 / (avg_time / 60)\n",
    "    # 单服务台繁忙率\n",
    "    rho = lamb / mu\n",
    "    # 单个服务台空闲率\n",
    "    p0 = 1 - rho\n",
    "    # 每天空闲时间\n",
    "    free_time = p0 * work_time\n",
    "    # 队伍长度\n",
    "    temp_length = lamb / (mu - lamb)\n",
    "    # 等待队长\n",
    "    wait_temp_length = (lamb ** 2) / (mu * (mu - lamb))\n",
    "    # 平均等待时间\n",
    "    avg_wait_time = wait_temp_length / lamb * 60\n",
    "    # 平均逗留时间\n",
    "    avg_stay_time = temp_length / lamb * 60\n",
    "    # 单个服务台上有N个顾客的概率\n",
    "    serve_n = (rho ** n) * (1 - rho)\n",
    "\n",
    "    # 计算还需要增加多少座位，采取向上取整\n",
    "    x = symbols('x')\n",
    "    seat = ceil(solve(no_seat_rate - rho ** (x+1), x)[0])\n",
    "\n",
    "    # 顾客在单服务台的店内逗留时间超过t分钟的概率\n",
    "    exceed_time_rate = E ** (-t * (1 / (60 / avg_stay_time) - (1 / (60 / avg_wait_time))))\n",
    "\n",
    "    return (rho, p0, free_time, temp_length, wait_temp_length, avg_wait_time, avg_stay_time, serve_n, seat, exceed_time_rate)"
   ]
  },
  {
   "cell_type": "markdown",
   "metadata": {},
   "source": [
    "<font fonc=\"仿宋\" color=blue, size=4>6.2　多服务台混合制模型<font>"
   ]
  },
  {
   "cell_type": "markdown",
   "metadata": {},
   "source": [
    "　　<font fonc=\"仿宋\" size=2 color=black>多服务台混合制模型M/M/s/K是指顾客的相继到达时间服从参数为$\\lambda$的负指数分布，服务台个数为s，每个服务台服务时间相互独立，且服从参数为$\\mu$的负指数分布，系统的空间为K。<font>"
   ]
  },
  {
   "cell_type": "markdown",
   "metadata": {},
   "source": [
    "由式(4)，式(5)和式(6)，并注意到在本模型中  \n",
    "$$\\lambda_{n}=\\begin{cases}\\lambda,　n=0,1,\\cdots,K-1\\\\0,　n\\geq K \\end{cases}$$  \n",
    "$$\\mu_{n}=\\begin{cases}n\\mu,　0\\leq n<s \\\\s\\mu,　s\\leq n\\leq K \\end{cases}$$"
   ]
  },
  {
   "cell_type": "markdown",
   "metadata": {},
   "source": [
    "于是  \n",
    "$$p_{n}=\\begin{cases}\\frac{\\rho^n}{n!}p_{0},　0\\leq n<s\\\\\\frac{\\rho^n}{s!s^{n-s}}p_{0},　s\\leq n\\leq K \\end{cases}　（42）$$  \n",
    "其中  \n",
    "$$p_{0}=\\begin{cases}\\bigg(\\sum_{n=0}^{s-1}\\frac{\\rho^n}{n!}+\\frac{\\rho^{s}(1-\\rho_{s}^{K-s+1})}{s!(1-\\rho_{s})}\\bigg)^{-1},　\\rho_{s}\\neq1 \\\\\\bigg(\\sum_{n=0}^{s-1}\\frac{\\rho^n}{n!}+\\frac{\\rho^s}{s!}(K-s+1)\\bigg)^{-1},　\\rho_{s}=1 \\end{cases}　(43)$$"
   ]
  },
  {
   "cell_type": "markdown",
   "metadata": {},
   "source": [
    "由平稳分布$p_{n}，n=0,1,2,\\cdots,K$，可得平均排队长为  \n",
    "$$L_{q}=\\sum_{n=s}^{K}(n-s)p_{s}=\\begin{cases}\\frac{p_{0}\\rho^{s}\\rho_{s}}{s!(1-\\rho_{s})^{2}}[1-\\rho_{s}^{K-s+1}-(1-\\rho_{s})(K-s+1)\\rho_{s}^{K-s}],　\\rho\n",
    "_{s}\\not=1\\\\\\frac{p_{0}\\rho^s(K-s)(K-s+1)}{2s!},　\\rho_{s}=1 \\end{cases}(44)$$"
   ]
  },
  {
   "cell_type": "markdown",
   "metadata": {},
   "source": [
    "为求平均队长，由  \n",
    "$$L_{q}=\\sum_{n=s}^{K}(n-s)p_{n}=\\sum_{n=s}^{K}np_{n}-s\\sum_{n=s}{K}^p_{n}=\\sum_{n=0}^{K}np_{n}-\\sum_{n=0}^{s-1}-s\\bigg(1-\\sum_{n=0}^{s-1}p_{n}\\bigg)=L_{s}-\\sum_{n=0}^{s-1}(n-s)p_{n}-s$$"
   ]
  },
  {
   "cell_type": "markdown",
   "metadata": {},
   "source": [
    "得到  \n",
    "$$L_{s}=L_{q}+s+p_{0}\\sum_{n=0}^{s-1}\\frac{(n-s)\\rho^{n}}{n!}　(45)$$  \n",
    "　　由系统空间的有限性，必须考虑顾客的有效到达率$\\lambda_{e}$。对多服务台系统，仍有  \n",
    "$$\\lambda_{e}=\\lambda(1-p_{k})　(46)$$  \n",
    "　　再利用Little公式，得到  \n",
    "$$W_{s}=\\frac{L_{s}}{\\lambda_{e}}，W_{q}=\\frac{L_{q}}{\\lambda_{e}}=W_{s}-\\frac{1}{\\mu}　(47)$$"
   ]
  },
  {
   "cell_type": "markdown",
   "metadata": {},
   "source": [
    "平均被占用的服务台数（也是正在接受服务的顾客的平均数）为  \n",
    "$$\\bar{n}=\\sum_{n=0}^{s-1}np_{n}+s\\sum_{n=s}^{K}p_{n}=p_{0}\\bigg[\\sum_{n=0}^{s-1}\\frac{n\\rho^n}{n!}+s\\sum_{n=s}^{K}\\frac{\\rho^n}{s!s^{n-s}}\\bigg]=p_{0}\\rho\\bigg[\\sum_{n=1}^{s-1}\\frac{\\rho^{n-1}}{(n-1)!}+\\sum_{n=s}^{K}\\frac{\\rho^{n-1}}{s!s^{n-1-s}}\\bigg]=p_{0}\\rho\\bigg[\\sum_{n=0}^{s-1}\\frac{\\rho^n}{n!}+\\sum_{n=s}^{K}\\frac{\\rho^n}{s!s^{n-s}}-\\frac{\\rho^{K}}{s!s^{K-s}}\\bigg]=\\rho(1-\\frac{\\rho^{k}}{s!s^{K-s}}p_{0})=\\rho(1-p_{k})　(48)$$"
   ]
  },
  {
   "cell_type": "markdown",
   "metadata": {},
   "source": [
    "因此，又有  \n",
    "$$L_{s}=L_{q}+\\bar{s}=L_{q}+\\rho(1-p_{k})　(49)$$"
   ]
  },
  {
   "cell_type": "markdown",
   "metadata": {},
   "source": [
    "<font fonc=\"仿宋\" color=blue size=2>例6<font> 某汽车加油站设有两个加油机，汽车按Poisson流到达，平均每分钟到达2辆；汽车加油时间服从负指数分布，平均加油时间为2分钟。又知加油站上最多只能停放3辆等待加油的汽车，汽车到达时，若已满员，则必须开到别的加油站去，试对该系统进行分析。"
   ]
  },
  {
   "cell_type": "markdown",
   "metadata": {},
   "source": [
    "解 可将该系统看作一个M/M/2/5 排队系统，其中  \n",
    "$$\\lambda=2，\\mu=0.5，\\rho=\\frac{\\lambda}{\\mu}=4，s=2，K=5$$"
   ]
  },
  {
   "cell_type": "markdown",
   "metadata": {},
   "source": [
    "(1)　系统空闲的概率  \n",
    "$$p_{0}=\\left(\\sum_{n=0}^{s-1}{\\frac{\\rho^{n}}{n!}+\\frac{\\rho^{s}(1-\\rho_{s}^{K-s+1})}{s!(1-\\rho_{s})}}\\right)_{\\rho_{s}\\ne1}^{-1}=\\left\\{1+4+\\frac{4^{2}[1-(4/2)^{5-2+1}]}{2!(1-4/2)}\\right\\}^{-1}=0.008$$"
   ]
  },
  {
   "cell_type": "code",
   "execution_count": 7,
   "metadata": {
    "ExecuteTime": {
     "end_time": "2021-06-16T13:04:37.417305Z",
     "start_time": "2021-06-16T13:04:37.410304Z"
    }
   },
   "outputs": [
    {
     "name": "stdout",
     "output_type": "stream",
     "text": [
      "系统空闲的概率为0.78%\n"
     ]
    }
   ],
   "source": [
    "from sympy import factorial\n",
    "\n",
    "lambd, mu, s, k = 2, 0.5, 2, 5\n",
    "rho = lambd / mu\n",
    "p0 = ((rho ** lambd) / factorial(lambd) + (rho ** s) * (1 - (rho/s)**(k-s+1)) / factorial(s) * (1-(rho/s))) ** -1\n",
    "print('系统空闲的概率为{}%'.format(round(p0, 4) * 100))"
   ]
  },
  {
   "cell_type": "markdown",
   "metadata": {},
   "source": [
    "(2)　顾客损失率  \n",
    "$$p_{s}=\\frac{\\rho^{n}}{s!s^{n-s}}p_{0}=\\frac{4^5\\times0.008}{2!\\times2^{5-2}}$$"
   ]
  },
  {
   "cell_type": "code",
   "execution_count": 34,
   "metadata": {
    "ExecuteTime": {
     "end_time": "2021-06-16T14:18:40.815452Z",
     "start_time": "2021-06-16T14:18:40.810452Z"
    }
   },
   "outputs": [
    {
     "name": "stdout",
     "output_type": "stream",
     "text": [
      "顾客损失率为50%\n"
     ]
    }
   ],
   "source": [
    "ps = (rho ** k * p0) / (factorial(s) * (s ** (k-s)))\n",
    "print('顾客损失率为{}%'.format(round(ps*100)))"
   ]
  },
  {
   "cell_type": "markdown",
   "metadata": {},
   "source": [
    "(3)　加油站内在等待的平均汽车数  \n",
    "$$L_{q}=\\frac{p_{0}\\rho^{s}\\rho_{s}}{s!(1-\\rho_{s})^{2}}\\left[1-\\rho_{s}^{K-s+1}-(1-\\rho_{s})(K-s+1)\\rho_{s}^{K-s}\\right]=\\frac{0.008\\times4^{2}\\times\\frac{4}{2}}{2!\\times(1-\\frac{4}{2})^{2}}\\left[1-(\\frac{4}{2})^{5-2+1}-(1-\\frac{4}{2})(5-2+1)(\\frac{4}{2})^{5-2}\\right]=2.18（辆）$$"
   ]
  },
  {
   "cell_type": "code",
   "execution_count": 47,
   "metadata": {
    "ExecuteTime": {
     "end_time": "2021-06-16T16:08:28.155227Z",
     "start_time": "2021-06-16T16:08:28.149226Z"
    }
   },
   "outputs": [
    {
     "name": "stdout",
     "output_type": "stream",
     "text": [
      "加油站内在等待的平均汽车数2.125辆\n"
     ]
    }
   ],
   "source": [
    "lq = (p0 * (rho**s) * (rho/s)) / (factorial(s) * ((1-rho/s) ** 2)) * (1 - (rho/s) ** (k-s+1) - (1 - rho/s) * (k-s+1) * ((rho/s)**(k-s)))\n",
    "print('加油站内在等待的平均汽车数{}辆'.format(round(lq,3)))"
   ]
  },
  {
   "cell_type": "markdown",
   "metadata": {
    "ExecuteTime": {
     "end_time": "2021-06-16T16:06:40.060044Z",
     "start_time": "2021-06-16T16:06:40.052043Z"
    }
   },
   "source": [
    "加油站内汽车的平均数为  \n",
    "$$L_{s}=L_{q}+\\rho(1-p_{5})=2.125+4\\times(1-0.5)=4.125（辆）$$"
   ]
  },
  {
   "cell_type": "code",
   "execution_count": 50,
   "metadata": {
    "ExecuteTime": {
     "end_time": "2021-06-16T16:23:07.898545Z",
     "start_time": "2021-06-16T16:23:07.893545Z"
    }
   },
   "outputs": [
    {
     "name": "stdout",
     "output_type": "stream",
     "text": [
      "加油站内汽车的平均数为4.125辆\n"
     ]
    }
   ],
   "source": [
    "ls = lq + rho * (1 - ps)\n",
    "print('加油站内汽车的平均数为{}辆'.format(round(ls, 3)))"
   ]
  },
  {
   "cell_type": "markdown",
   "metadata": {
    "ExecuteTime": {
     "end_time": "2021-06-16T16:21:00.944284Z",
     "start_time": "2021-06-16T16:21:00.846278Z"
    }
   },
   "source": [
    "(4)　汽车在加油站内平均逗留时间为  \n",
    "$$W_{s}=\\frac{L_{s}}{\\lambda(1-p_{s})}=\\frac{4.125}{2\\times(1-0.5)}=4.125（分钟）$$"
   ]
  },
  {
   "cell_type": "code",
   "execution_count": 55,
   "metadata": {
    "ExecuteTime": {
     "end_time": "2021-06-16T16:38:25.795046Z",
     "start_time": "2021-06-16T16:38:25.791046Z"
    }
   },
   "outputs": [
    {
     "name": "stdout",
     "output_type": "stream",
     "text": [
      "汽车在加油站内平均逗留时间为4.125分钟\n"
     ]
    }
   ],
   "source": [
    "ws = ls / (lambd * (1 - ps))\n",
    "print('汽车在加油站内平均逗留时间为{}分钟'.format(round(ws, 3)))"
   ]
  },
  {
   "cell_type": "markdown",
   "metadata": {
    "ExecuteTime": {
     "end_time": "2021-06-16T16:32:43.173449Z",
     "start_time": "2021-06-16T16:32:43.169449Z"
    }
   },
   "source": [
    "汽车在加油站内平均等待时间为  \n",
    "$$W_{q}=W_{s}-\\frac{1}{\\mu}=4.125-\\frac{1}{0.5}=2.125（分钟）$$"
   ]
  },
  {
   "cell_type": "code",
   "execution_count": 58,
   "metadata": {
    "ExecuteTime": {
     "end_time": "2021-06-16T16:47:17.768473Z",
     "start_time": "2021-06-16T16:47:17.763473Z"
    }
   },
   "outputs": [
    {
     "name": "stdout",
     "output_type": "stream",
     "text": [
      "汽车在加油站内平均等待时间为2.125分钟\n"
     ]
    }
   ],
   "source": [
    "wq = ws - 1/mu\n",
    "print('汽车在加油站内平均等待时间为{}分钟'.format(round(wq, 3)))"
   ]
  },
  {
   "cell_type": "markdown",
   "metadata": {
    "ExecuteTime": {
     "end_time": "2021-06-16T16:46:35.248041Z",
     "start_time": "2021-06-16T16:46:35.244041Z"
    }
   },
   "source": [
    "(5)　被占用的加油机的平均数为  \n",
    "$$\\overline s=L_{s}-L_{q}=4.125-2.125=2（个）$$"
   ]
  },
  {
   "cell_type": "code",
   "execution_count": 59,
   "metadata": {
    "ExecuteTime": {
     "end_time": "2021-06-16T16:54:38.259668Z",
     "start_time": "2021-06-16T16:54:38.255667Z"
    }
   },
   "outputs": [
    {
     "name": "stdout",
     "output_type": "stream",
     "text": [
      "被占用的加油机的平均数为2个\n"
     ]
    }
   ],
   "source": [
    "_s = ls - lq\n",
    "print('被占用的加油机的平均数为{}个'.format(round(_s)))"
   ]
  },
  {
   "cell_type": "code",
   "execution_count": null,
   "metadata": {},
   "outputs": [],
   "source": []
  }
 ],
 "metadata": {
  "kernelspec": {
   "display_name": "Python [conda env:lkm]",
   "language": "python",
   "name": "lkm"
  },
  "language_info": {
   "codemirror_mode": {
    "name": "ipython",
    "version": 3
   },
   "file_extension": ".py",
   "mimetype": "text/x-python",
   "name": "python",
   "nbconvert_exporter": "python",
   "pygments_lexer": "ipython3",
   "version": "3.7.7"
  },
  "toc": {
   "base_numbering": 1,
   "nav_menu": {},
   "number_sections": true,
   "sideBar": true,
   "skip_h1_title": false,
   "title_cell": "Table of Contents",
   "title_sidebar": "Contents",
   "toc_cell": false,
   "toc_position": {},
   "toc_section_display": true,
   "toc_window_display": false
  }
 },
 "nbformat": 4,
 "nbformat_minor": 4
}
